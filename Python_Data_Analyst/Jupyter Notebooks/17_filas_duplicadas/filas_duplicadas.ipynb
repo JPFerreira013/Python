{
 "cells": [
  {
   "cell_type": "markdown",
   "id": "20ddadd3",
   "metadata": {},
   "source": [
    "# Filas duplicadas"
   ]
  },
  {
   "cell_type": "code",
   "execution_count": null,
   "id": "aef64f93",
   "metadata": {},
   "outputs": [],
   "source": [
    "import pandas as pd\n",
    "import numpy as np"
   ]
  },
  {
   "cell_type": "code",
   "execution_count": null,
   "id": "648b6323",
   "metadata": {},
   "outputs": [],
   "source": [
    "# Creamos el Dataframe a partir del dataset en CSV\n",
    "# Amazon Top 50 Bestselling Books 2009-2019\n",
    "df = pd.read_csv('amazon.csv')"
   ]
  },
  {
   "cell_type": "code",
   "execution_count": null,
   "id": "c1c1c7da",
   "metadata": {
    "scrolled": true
   },
   "outputs": [],
   "source": [
    "# Mostrambos el Dataframe\n",
    "df"
   ]
  },
  {
   "cell_type": "markdown",
   "id": "53dee44d",
   "metadata": {},
   "source": [
    "## Buscar duplicados"
   ]
  },
  {
   "cell_type": "code",
   "execution_count": null,
   "id": "e7eca19f",
   "metadata": {
    "scrolled": true
   },
   "outputs": [],
   "source": [
    "# Buscamos elementos duplicados en una columna\n",
    "df.duplicated('Name').value_counts()"
   ]
  },
  {
   "cell_type": "code",
   "execution_count": null,
   "id": "0afbd8df",
   "metadata": {
    "scrolled": true
   },
   "outputs": [],
   "source": [
    "# Seleccionamos Los elementos con duplicados en la columna 'Name'\n",
    "df = df[df.duplicated('Name')]"
   ]
  },
  {
   "cell_type": "code",
   "execution_count": null,
   "id": "995b40d8",
   "metadata": {
    "scrolled": true
   },
   "outputs": [],
   "source": [
    "# Mostramos el Dataframa\n",
    "df"
   ]
  }
 ],
 "metadata": {
  "kernelspec": {
   "display_name": "Python 3 (ipykernel)",
   "language": "python",
   "name": "python3"
  },
  "language_info": {
   "codemirror_mode": {
    "name": "ipython",
    "version": 3
   },
   "file_extension": ".py",
   "mimetype": "text/x-python",
   "name": "python",
   "nbconvert_exporter": "python",
   "pygments_lexer": "ipython3",
   "version": "3.11.5"
  }
 },
 "nbformat": 4,
 "nbformat_minor": 5
}
