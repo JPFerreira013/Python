{
 "cells": [
  {
   "cell_type": "markdown",
   "id": "20ddadd3",
   "metadata": {},
   "source": [
    "# Filtrado con isin"
   ]
  },
  {
   "cell_type": "code",
   "execution_count": null,
   "id": "aef64f93",
   "metadata": {},
   "outputs": [],
   "source": [
    "import pandas as pd\n",
    "import numpy as np"
   ]
  },
  {
   "cell_type": "code",
   "execution_count": null,
   "id": "648b6323",
   "metadata": {},
   "outputs": [],
   "source": [
    "# Creamos el Dataframe a partir del dataset en CSV\n",
    "# Amazon Top 50 Bestselling Books 2009-2019\n",
    "df = pd.read_csv('amazon.csv')"
   ]
  },
  {
   "cell_type": "code",
   "execution_count": null,
   "id": "c1c1c7da",
   "metadata": {
    "scrolled": true
   },
   "outputs": [],
   "source": [
    "# Mostrambos el Dataframe\n",
    "df"
   ]
  },
  {
   "cell_type": "markdown",
   "id": "53dee44d",
   "metadata": {},
   "source": [
    "## Filtrado simple"
   ]
  },
  {
   "cell_type": "code",
   "execution_count": null,
   "id": "e7eca19f",
   "metadata": {},
   "outputs": [],
   "source": [
    "# Seleccionamos los libros de Stephen King o J.K. Rowling \n",
    "# Establecemos la condición\n",
    "condicion = df['Author'].isin(['Stephen King', 'J.K. Rowling'])"
   ]
  },
  {
   "cell_type": "code",
   "execution_count": null,
   "id": "118822ab",
   "metadata": {},
   "outputs": [],
   "source": [
    "# Filtramos el Dataframe por la condición\n",
    "df[condicion]"
   ]
  },
  {
   "cell_type": "markdown",
   "id": "818112e4",
   "metadata": {},
   "source": [
    "## Filtrado múltiple"
   ]
  },
  {
   "cell_type": "code",
   "execution_count": null,
   "id": "2218874b",
   "metadata": {},
   "outputs": [],
   "source": [
    "# Seleccionamos los libros de Jeff Kinney o Gary Chapman\n",
    "# De los años 2018 y 2019\n",
    "condicion1 = df['Author'].isin(['Jeff Kinney', 'Gary Chapman'])\n",
    "condicion2 = df['Year'].isin([2018, 2019])"
   ]
  },
  {
   "cell_type": "code",
   "execution_count": null,
   "id": "4702e25a",
   "metadata": {},
   "outputs": [],
   "source": [
    "# Filtramos el Dataframe por la condición\n",
    "df[condicion1 & condicion2]"
   ]
  }
 ],
 "metadata": {
  "kernelspec": {
   "display_name": "Python 3 (ipykernel)",
   "language": "python",
   "name": "python3"
  },
  "language_info": {
   "codemirror_mode": {
    "name": "ipython",
    "version": 3
   },
   "file_extension": ".py",
   "mimetype": "text/x-python",
   "name": "python",
   "nbconvert_exporter": "python",
   "pygments_lexer": "ipython3",
   "version": "3.11.5"
  }
 },
 "nbformat": 4,
 "nbformat_minor": 5
}
