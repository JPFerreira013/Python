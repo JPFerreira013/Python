{
 "cells": [
  {
   "cell_type": "markdown",
   "id": "20ddadd3",
   "metadata": {},
   "source": [
    "# Crear columnas condicionales"
   ]
  },
  {
   "cell_type": "code",
   "execution_count": null,
   "id": "aef64f93",
   "metadata": {},
   "outputs": [],
   "source": [
    "import pandas as pd\n",
    "import numpy as np"
   ]
  },
  {
   "cell_type": "code",
   "execution_count": null,
   "id": "648b6323",
   "metadata": {},
   "outputs": [],
   "source": [
    "# Creamos el Dataframe a partir del dataset en CSV\n",
    "# Amazon Top 50 Bestselling Books 2009-2019\n",
    "df = pd.read_csv('amazon.csv')"
   ]
  },
  {
   "cell_type": "code",
   "execution_count": null,
   "id": "c1c1c7da",
   "metadata": {
    "scrolled": true
   },
   "outputs": [],
   "source": [
    "# Mostrambos el Dataframe\n",
    "df"
   ]
  },
  {
   "cell_type": "markdown",
   "id": "89de3de5",
   "metadata": {},
   "source": [
    "## Crear una columna condicional con dos opciones"
   ]
  },
  {
   "cell_type": "code",
   "execution_count": null,
   "id": "9b84c789",
   "metadata": {},
   "outputs": [],
   "source": [
    "# Deseamos crear una nueva columna que nos indique si el libre tiene\n",
    "# una buena calificación o no, según el siguiente criterio:\n",
    "# User Rating >= 4 -> 'Bueno'\n",
    "# User Rating < 4  -> 'Malo'\n",
    "df['Valoracion'] = np.where(\n",
    "    df['User Rating'] >= 4,\n",
    "    'Bueno',\n",
    "    'Malo'\n",
    ")"
   ]
  },
  {
   "cell_type": "code",
   "execution_count": null,
   "id": "eb78676e",
   "metadata": {
    "scrolled": true
   },
   "outputs": [],
   "source": [
    "# Mostramos el Dataframe\n",
    "df"
   ]
  },
  {
   "cell_type": "code",
   "execution_count": null,
   "id": "209341d2",
   "metadata": {},
   "outputs": [],
   "source": [
    "# Comprobamos que se ha llevado a cabo la clasificación\n",
    "df['Valoracion'].value_counts()"
   ]
  },
  {
   "cell_type": "markdown",
   "id": "6e0bb99d",
   "metadata": {},
   "source": [
    "## Crear una columna condicional con más de dos opciones"
   ]
  },
  {
   "cell_type": "code",
   "execution_count": null,
   "id": "43d87a52",
   "metadata": {},
   "outputs": [],
   "source": [
    "# Deseamos crear una nueva columna que nos indique si el libre tiene\n",
    "# una buena calificación o no, según el siguiente criterio:\n",
    "\n",
    "# 'Muy Bueno': 4.5 < User Rating\n",
    "# 'Bueno':     4.5 > User Rating >= 3.5\n",
    "# 'Regular'    3.5 > User Rating >= 2.5\n",
    "# 'Malo'       2.5 > User Rating\n",
    "\n",
    "# Establecemos las condiciones y los valores\n",
    "\n",
    "condiciones = [\n",
    "    df['User Rating'] >= 4.5,\n",
    "    (df['User Rating'] < 4.5) & (df['User Rating'] >= 3.5),\n",
    "    (df['User Rating'] < 3.5) & (df['User Rating'] >= 2.5),\n",
    "    df['User Rating'] < 2.5,\n",
    "]\n",
    "\n",
    "valores = [\n",
    "    'Muy Bueno',\n",
    "    'Bueno',\n",
    "    'Regular',\n",
    "    'Malo'\n",
    "]"
   ]
  },
  {
   "cell_type": "code",
   "execution_count": null,
   "id": "99fc39cc",
   "metadata": {},
   "outputs": [],
   "source": [
    "# Añadimos la nueva columna\n",
    "df['Valoracion'] = np.select(condiciones, valores)"
   ]
  },
  {
   "cell_type": "code",
   "execution_count": null,
   "id": "b82cd1a8",
   "metadata": {
    "scrolled": true
   },
   "outputs": [],
   "source": [
    "# Mostramos el Dataframe\n",
    "df"
   ]
  },
  {
   "cell_type": "code",
   "execution_count": null,
   "id": "7dcb0347",
   "metadata": {},
   "outputs": [],
   "source": [
    "# Comprobamos que se ha llevado a cabo la clasificación\n",
    "df['Valoracion'].value_counts()"
   ]
  },
  {
   "cell_type": "code",
   "execution_count": null,
   "id": "32461661",
   "metadata": {},
   "outputs": [],
   "source": [
    "df.describe()"
   ]
  }
 ],
 "metadata": {
  "kernelspec": {
   "display_name": "Python 3 (ipykernel)",
   "language": "python",
   "name": "python3"
  },
  "language_info": {
   "codemirror_mode": {
    "name": "ipython",
    "version": 3
   },
   "file_extension": ".py",
   "mimetype": "text/x-python",
   "name": "python",
   "nbconvert_exporter": "python",
   "pygments_lexer": "ipython3",
   "version": "3.9.12"
  }
 },
 "nbformat": 4,
 "nbformat_minor": 5
}
