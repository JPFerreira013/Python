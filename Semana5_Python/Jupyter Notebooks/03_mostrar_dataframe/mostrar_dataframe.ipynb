{
 "cells": [
  {
   "cell_type": "markdown",
   "id": "6a49ca79",
   "metadata": {},
   "source": [
    "# Mostrar Dataframe"
   ]
  },
  {
   "cell_type": "code",
   "execution_count": null,
   "id": "01d363cf",
   "metadata": {},
   "outputs": [],
   "source": [
    "# Importamos las librerías necesarias\n",
    "import pandas as pd\n",
    "import numpy as np"
   ]
  },
  {
   "cell_type": "code",
   "execution_count": null,
   "id": "ae81a7e1",
   "metadata": {},
   "outputs": [],
   "source": [
    "# Leemos el fichero CSV, especificando que el separador es ';'\n",
    "df = pd.read_csv('datos.csv', sep =';')"
   ]
  },
  {
   "cell_type": "code",
   "execution_count": null,
   "id": "ae125947",
   "metadata": {},
   "outputs": [],
   "source": [
    "# Mostramos el Dataframe\n",
    "df"
   ]
  },
  {
   "cell_type": "code",
   "execution_count": null,
   "id": "c0f93ad0",
   "metadata": {},
   "outputs": [],
   "source": [
    "# Mostramos las primeras 5 líneas del Dataframe\n",
    "df.head(5)"
   ]
  },
  {
   "cell_type": "code",
   "execution_count": null,
   "id": "2138a176",
   "metadata": {},
   "outputs": [],
   "source": [
    "# Mostramos las últimas 5 líneas del Dataframe\n",
    "df.tail(5)"
   ]
  },
  {
   "cell_type": "code",
   "execution_count": null,
   "id": "030b2809",
   "metadata": {},
   "outputs": [],
   "source": [
    "# Especificar el número máximo de filas que se muestra por defecto\n",
    "pd.set_option('display.max_rows',10)"
   ]
  },
  {
   "cell_type": "code",
   "execution_count": null,
   "id": "7036e916",
   "metadata": {},
   "outputs": [],
   "source": [
    "# Mostramos el Dataframe\n",
    "df"
   ]
  }
 ],
 "metadata": {
  "kernelspec": {
   "display_name": "Python 3 (ipykernel)",
   "language": "python",
   "name": "python3"
  },
  "language_info": {
   "codemirror_mode": {
    "name": "ipython",
    "version": 3
   },
   "file_extension": ".py",
   "mimetype": "text/x-python",
   "name": "python",
   "nbconvert_exporter": "python",
   "pygments_lexer": "ipython3",
   "version": "3.9.12"
  }
 },
 "nbformat": 4,
 "nbformat_minor": 5
}
